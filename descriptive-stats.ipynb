{
 "cells": [
  {
   "attachments": {},
   "cell_type": "markdown",
   "metadata": {},
   "source": [
    "# Descriptive Statistics\n",
    "\n",
    "## Mean\n",
    "\n",
    "- mean is the average value of a sample set.\n",
    "- There are different types of mean calculations\n",
    "    - Arithmetic Mean : The usual. We sum all numbers and then divide it by number count. \n",
    "    - Arithmetic Mean Intuition: if all the quantities had the same value, what would that value have to be in order to achieve the same total?\n",
    "    - Geometric Mean : Here we multiply n values in our data set and then take a nth root of the product.\n",
    "    - Geometric Mean intuition: if all the quantities had the same value, what would that value have to be in order to achieve the same product?\n",
    "    - Harmonic Mean : Here we sum up all 1/value of our dataset and then divide n (number of values) by this sum.\n",
    "    - Harmonic Mean Intuition: Harmonic mean is used when we have to find average of rates. (I will need to find a better answer)"
   ]
  },
  {
   "cell_type": "code",
   "execution_count": 95,
   "metadata": {},
   "outputs": [
    {
     "name": "stdout",
     "output_type": "stream",
     "text": [
      "Mean: 3.5\n"
     ]
    }
   ],
   "source": [
    "def calculate_mean(numbers):\n",
    "    s = sum(numbers)\n",
    "    N = len(numbers)\n",
    "    # Calculate the mean\n",
    "    mean = s/N\n",
    "    return mean\n",
    "\n",
    "data = [1,2,3,4,5,6]\n",
    "mean = calculate_mean(data)\n",
    "print('Mean: {}'.format(mean))"
   ]
  },
  {
   "attachments": {},
   "cell_type": "markdown",
   "metadata": {},
   "source": [
    "#### Geometric Mean"
   ]
  },
  {
   "cell_type": "code",
   "execution_count": 96,
   "metadata": {},
   "outputs": [
    {
     "name": "stdout",
     "output_type": "stream",
     "text": [
      "Geometric mean: 2.993795165523909\n"
     ]
    }
   ],
   "source": [
    "def calculate_geometric_mean(numbers):\n",
    "    s = 1\n",
    "    N = len(numbers)\n",
    "    for x in numbers:\n",
    "        s *= x\n",
    "    # Calculate the geometric mean\n",
    "    geometric_mean = s**(1/N)\n",
    "    return geometric_mean\n",
    "\n",
    "data = [1,2,3,4,5,6]\n",
    "geometric_mean = calculate_geometric_mean(data)\n",
    "print('Geometric mean: {}'.format(geometric_mean))"
   ]
  },
  {
   "attachments": {},
   "cell_type": "markdown",
   "metadata": {},
   "source": [
    "#### Arithmetic Mean"
   ]
  },
  {
   "cell_type": "code",
   "execution_count": 97,
   "metadata": {},
   "outputs": [
    {
     "name": "stdout",
     "output_type": "stream",
     "text": [
      "Arithmetic mean: 3.5\n"
     ]
    }
   ],
   "source": [
    "def calculate_arithmetic_mean(numbers):\n",
    "    s = 0\n",
    "    N = len(numbers)\n",
    "    for x in numbers:\n",
    "        s += x\n",
    "    # Calculate the arithmetic mean\n",
    "    arithmetic_mean = s/N\n",
    "    return arithmetic_mean\n",
    "\n",
    "data = [1,2,3,4,5,6]\n",
    "arithmetic_mean = calculate_arithmetic_mean(data)\n",
    "print('Arithmetic mean: {}'.format(arithmetic_mean))"
   ]
  },
  {
   "attachments": {},
   "cell_type": "markdown",
   "metadata": {},
   "source": [
    "#### Weighted Mean\n",
    "- \"weight\" of each value represents the influence, frequency or probability of each value in our dataset.\n",
    "- A weighted mean, multiplies each element in our data set by its \"weight\" and then takes an average.\n",
    "- The weighted mean is useful because it takes into account the relative importance of each value in the data set, whereas the arithmetic mean treats each value equally. This can be important in situations where some values are more important or relevant than others, such as in financial analysis or performance evaluations. Additionally, the weighted mean can be used to account for differences in sample sizes or to adjust for biases in a sample."
   ]
  },
  {
   "cell_type": "code",
   "execution_count": 98,
   "metadata": {},
   "outputs": [
    {
     "name": "stdout",
     "output_type": "stream",
     "text": [
      "Frequency weights: {1: 2, 2: 1, 3: 1, 4: 2, 5: 1, 6: 1}\n",
      "Weighted mean: 4.5\n"
     ]
    }
   ],
   "source": [
    "def calculate_weighted_mean(numbers, weights_map):\n",
    "    s = 0\n",
    "    N = len(numbers)\n",
    "    for i in numbers:\n",
    "        s += i * weights_map[i]\n",
    "    # Calculate the weighted mean\n",
    "    weighted_mean = s/N\n",
    "    return weighted_mean\n",
    "\n",
    "def calculate_frequency_weights(numbers):\n",
    "    weight_map = {x:0 for x in numbers}\n",
    "\n",
    "    for x in numbers:\n",
    "        frequency = numbers.count(x)\n",
    "        weight_map[x] = frequency\n",
    "    return weight_map\n",
    "\n",
    "data = [1,2,3,4,5,6,1,4]\n",
    "\n",
    "freq_data = calculate_frequency_weights(data)\n",
    "print('Frequency weights: {}'.format(freq_data))\n",
    "\n",
    "calc_data = calculate_weighted_mean(data, freq_data)\n",
    "print('Weighted mean: {}'.format(calc_data))"
   ]
  },
  {
   "attachments": {},
   "cell_type": "markdown",
   "metadata": {},
   "source": [
    "## Median\n",
    "- Median is the middle of an ordered set.\n",
    "- For odd numbers of samples, it the easy since we have a middle sample.\n",
    "- For even numbers of samples, it is still easy, we take the center 2 samples and average them."
   ]
  },
  {
   "cell_type": "code",
   "execution_count": 99,
   "metadata": {},
   "outputs": [
    {
     "name": "stdout",
     "output_type": "stream",
     "text": [
      "Median odd: 4\n",
      "Median even: 3.5\n"
     ]
    }
   ],
   "source": [
    "def calculate_median(numbers):\n",
    "    N = len(numbers)\n",
    "    numbers.sort()\n",
    "    # Find the median\n",
    "    if N % 2 == 0:\n",
    "        m1 = N/2\n",
    "        m2 = (N/2) + 1\n",
    "        # Convert to integer, match position\n",
    "        m1 = int(m1) - 1\n",
    "        m2 = int(m2) - 1\n",
    "        median = (numbers[m1] + numbers[m2])/2\n",
    "    else:\n",
    "        m = (N+1)/2\n",
    "        # Convert to integer, match position\n",
    "        m = int(m) - 1\n",
    "        median = numbers[m]\n",
    "    return median\n",
    "\n",
    "# odd number of samples, the median here is 4\n",
    "data = [1,2,3,4,5,6,7]\n",
    "median = calculate_median(data)\n",
    "print('Median odd: {}'.format(median))\n",
    "\n",
    "# even number of samples, the median here is 3.5\n",
    "data = [1,2,3,4,5,6]\n",
    "median = calculate_median(data)\n",
    "print('Median even: {}'.format(median))"
   ]
  },
  {
   "attachments": {},
   "cell_type": "markdown",
   "metadata": {},
   "source": [
    "### When is median useful?\n",
    "- In a symmetrical distribution, mean = median.\n",
    "- Im assymetric distributions, mean is influenced by outliers, where as median remains fairly stable. In such cases, median reflects the dataset center better."
   ]
  },
  {
   "cell_type": "code",
   "execution_count": 100,
   "metadata": {},
   "outputs": [
    {
     "name": "stdout",
     "output_type": "stream",
     "text": [
      "Median: 6\n",
      "Mean: 14.090909090909092\n"
     ]
    }
   ],
   "source": [
    "# median and mean example with outliers\n",
    "data = [1,2,3,4,5,6,7,8,9,10,100]\n",
    "median = calculate_median(data)\n",
    "mean = calculate_mean(data)\n",
    "print('Median: {}'.format(median))\n",
    "print('Mean: {}'.format(mean))"
   ]
  },
  {
   "attachments": {},
   "cell_type": "markdown",
   "metadata": {},
   "source": [
    "- In the above example, Median is more representative of the center as Mean is influenced by the outlier \"100\"."
   ]
  },
  {
   "attachments": {},
   "cell_type": "markdown",
   "metadata": {},
   "source": [
    "## Mode\n",
    "- Mode is the observation of the highest frequency\n",
    "- Mode is useful in large data sets."
   ]
  },
  {
   "cell_type": "code",
   "execution_count": 3,
   "metadata": {},
   "outputs": [
    {
     "name": "stdout",
     "output_type": "stream",
     "text": [
      "Mode: {2}\n",
      "Mode: {2, 5}\n"
     ]
    }
   ],
   "source": [
    "def calculate_mode(numbers):\n",
    "    c = []\n",
    "    for x in numbers:\n",
    "        frequency = numbers.count(x)\n",
    "        c.append(frequency)\n",
    "\n",
    "    max_frequency = max(c)\n",
    "    modes = set()\n",
    "    \n",
    "    for x in range(len(numbers)):\n",
    "        \n",
    "        if c[x] == max_frequency:\n",
    "            modes.add(numbers[x])\n",
    "\n",
    "    return modes\n",
    "\n",
    "# here the mode is 2\n",
    "data = [1,2,2,3,4,5,5,6,6,7,8,9,10,2]\n",
    "mode = calculate_mode(data)\n",
    "print('Mode: {}'.format(mode))\n",
    "\n",
    "# here the mode is 2 and 5\n",
    "data = [1,2,2,3,4,5,5,5,6,6,7,8,9,10,2]\n",
    "mode = calculate_mode(data)\n",
    "print('Mode: {}'.format(mode))"
   ]
  },
  {
   "attachments": {},
   "cell_type": "markdown",
   "metadata": {},
   "source": [
    "## Quantiles, Quartiles, Deciles and Percentiles\n",
    "- In an ordered set, Quantiles divide the data set into equal intervals and sample at each interval represents that quantile.\n",
    "- A Quartile divides the set into 4 equal parts.\n",
    "- Similarly, Deciles divide the data set into 10 equal parts.\n",
    "- Percentiles divide the dataset into 100 equal parts."
   ]
  },
  {
   "cell_type": "code",
   "execution_count": null,
   "metadata": {},
   "outputs": [
    {
     "name": "stdout",
     "output_type": "stream",
     "text": [
      "Quantile: 5\n"
     ]
    }
   ],
   "source": [
    "def calculate_quantiles(numbers, q):\n",
    "    N = len(numbers)\n",
    "    numbers.sort()\n",
    "    # Find the quantile\n",
    "    pos = (q/100) * N\n",
    "    # Convert to integer, match position\n",
    "    pos = int(pos) - 1\n",
    "    quantile = numbers[pos]\n",
    "    return quantile\n",
    "\n",
    "# Get 1st quartile\n",
    "data = [1,2,3,4,5,6,7,8,9,10,11,12,13,14,15,16,17,18,19,20]\n",
    "quantile = calculate_quantiles(data, 25)\n",
    "print('Quantile: {}'.format(quantile))"
   ]
  },
  {
   "attachments": {},
   "cell_type": "markdown",
   "metadata": {},
   "source": [
    "## Range and Inter-Quartile Ranges\n",
    "- In an ordered dataset, the Range measures the dispersion or spread of the data.\n",
    "- It the difference between the maximum (last) and the minimum (first) value in a dataset.\n",
    "\n",
    "IQR (Inter Quartile Range) is the differnce between the third and the first quartile."
   ]
  },
  {
   "cell_type": "code",
   "execution_count": null,
   "metadata": {},
   "outputs": [
    {
     "name": "stdout",
     "output_type": "stream",
     "text": [
      "Range: 9\n",
      "Interquartile range: 5\n",
      "\n",
      "After adding an outlier:\n",
      "Range: 99\n",
      "Interquartile range: 6\n"
     ]
    }
   ],
   "source": [
    "def calculate_range(numbers):\n",
    "    numbers.sort()\n",
    "    lowest = numbers[0]\n",
    "    highest = numbers[-1]\n",
    "    # Find the range\n",
    "    r = highest - lowest\n",
    "    return r\n",
    "\n",
    "data = [1,2,3,4,5,6,7,8,9,10]\n",
    "r = calculate_range(data)\n",
    "print('Range: {}'.format(r))\n",
    "\n",
    "# get the first and the third quartile\n",
    "first_quartile = calculate_quantiles(data, 25)\n",
    "third_quartile = calculate_quantiles(data, 75)\n",
    "# calculate the interquartile range\n",
    "iqr = third_quartile - first_quartile\n",
    "print('Interquartile range: {}'.format(iqr))\n",
    "\n",
    "print(\"\\nAfter adding an outlier:\")\n",
    "\n",
    "# lets add an outlier\n",
    "data = [1,2,3,4,5,6,7,8,9,10,100]\n",
    "range = calculate_range(data)\n",
    "first_quartile = calculate_quantiles(data, 25)\n",
    "third_quartile = calculate_quantiles(data, 75)\n",
    "\n",
    "# calculate the interquartile range\n",
    "iqr = third_quartile - first_quartile\n",
    "print('Range: {}'.format(range))\n",
    "print('Interquartile range: {}'.format(iqr))\n"
   ]
  },
  {
   "attachments": {},
   "cell_type": "markdown",
   "metadata": {},
   "source": [
    "## Variance and Standard Deviation\n",
    "- Variace is how far a given sample is from the average.\n",
    "- The standard deviation is a measure of the spread or variability of a set of data. \n",
    "- It tells us how much the data deviates from the mean, on average. \n",
    "- It provides a way to quantify how much the individual data points in a set differ from the average value of the set.\n",
    "\n",
    "Standard Deviation Formula:\n",
    "\n",
    "`s = sqrt(sum((x-x')^2)/n-1)`\n",
    "\n",
    "- The reason we square the difference between the sample and the average of the sample set is so that:\n",
    "    1. We make it positive, so that the deviations don't cancel to zero.\n",
    "    2. This is a standard and is related to some advanced concepts, right now we will believe it.\n",
    "- The reason we divide by (n-1) is \n",
    "    1. to provide a boost to the numerator as a compensation for assuming the sample mean is the population mean.\n",
    "    2. to provide a degree of freedom to the sample mean because it is an approximation of population mean.\n",
    "- When we are calculating the standard deviation for the entire population, we divide by `n` instead of `n-1` as we are doing here for the sample set."
   ]
  },
  {
   "cell_type": "code",
   "execution_count": null,
   "metadata": {},
   "outputs": [
    {
     "name": "stdout",
     "output_type": "stream",
     "text": [
      "Variance: 7.25\n",
      "Standard deviation: 2.692582403567252\n"
     ]
    }
   ],
   "source": [
    "def calculate_variance(numbers):\n",
    "    # Find the mean\n",
    "    mean = calculate_mean(numbers)\n",
    "    # Find the deviations\n",
    "    deviations = [(x - mean)**2 for x in numbers]\n",
    "    # Find variance\n",
    "    variance = sum(deviations)/len(numbers)-1\n",
    "    return variance\n",
    "\n",
    "def calculate_standard_deviation(numbers):\n",
    "    # Find the variance\n",
    "    variance = calculate_variance(numbers)\n",
    "    # Find the standard deviation\n",
    "    std = variance**0.5\n",
    "    return std\n",
    "\n",
    "data = [1,2,3,4,5,6,7,8,9,10]\n",
    "variance = calculate_variance(data)\n",
    "std = calculate_standard_deviation(data)\n",
    "print('Variance: {}'.format(variance))\n",
    "print('Standard deviation: {}'.format(std))"
   ]
  },
  {
   "attachments": {},
   "cell_type": "markdown",
   "metadata": {},
   "source": [
    "## Coefficient of Variation\n",
    "- Coefficient of variation is the ratio of standard deviation to the sample mean.\n",
    "- It scales down the standard deviation and takes in consideration the difference in data scale.\n",
    "- While comparing two different units, this can be useful."
   ]
  },
  {
   "cell_type": "code",
   "execution_count": null,
   "metadata": {},
   "outputs": [
    {
     "name": "stdout",
     "output_type": "stream",
     "text": [
      "Mean: 5.5\n",
      "Coefficient of variation: 0.4895604370122276\n",
      "Mean: 205.5\n",
      "Coefficient of variation: 0.013102590771616797\n"
     ]
    }
   ],
   "source": [
    "def calculate_coefficient_of_variation(numbers):\n",
    "    # Find the mean\n",
    "    mean = calculate_mean(numbers)\n",
    "    # Find the standard deviation\n",
    "    std = calculate_standard_deviation(numbers)\n",
    "    # Find the coefficient of variation\n",
    "    cv = std/mean\n",
    "    return cv\n",
    "\n",
    "# notice the sample set spread. The max is 10 times the min.\n",
    "# mean of both the sets differs, but does not reflect the above feature.\n",
    "# coefficient of variation is a better measure of spread.\n",
    "data = [1,2,3,4,5,6,7,8,9,10]\n",
    "mean = calculate_mean(data)\n",
    "cv = calculate_coefficient_of_variation(data)\n",
    "print('Mean: {}'.format(mean))\n",
    "print('Coefficient of variation: {}'.format(cv))\n",
    "\n",
    "# notice the sample set spread. The max is 210 and min is 201, they are more closer to each other than in the earlier set.\n",
    "data = [201,202,203,204,205,206,207,208,209,210]\n",
    "mean = calculate_mean(data)\n",
    "cv = calculate_coefficient_of_variation(data)\n",
    "print('Mean: {}'.format(mean))\n",
    "print('Coefficient of variation: {}'.format(cv))\n"
   ]
  },
  {
   "attachments": {},
   "cell_type": "markdown",
   "metadata": {},
   "source": [
    "## Skewness\n",
    "- Skewness measures the asymmetry in the data distribution.\n",
    "- Skewness is useful to get an idea about the structure of the data set.\n",
    "- Here we are calculating the sample skewness. There are modifications required in case we want to calculate the population skewness."
   ]
  },
  {
   "cell_type": "code",
   "execution_count": null,
   "metadata": {},
   "outputs": [
    {
     "name": "stdout",
     "output_type": "stream",
     "text": [
      "Skewness: 0.0\n",
      "Skewness: 0.44406693481300274\n",
      "Skewness: -0.5866724609911917\n"
     ]
    }
   ],
   "source": [
    "def calculate_skewness(numbers):\n",
    "    # Find the mean\n",
    "    mean = calculate_mean(numbers)\n",
    "    # Find the standard deviation\n",
    "    std = calculate_standard_deviation(numbers)\n",
    "    # Find the skewness\n",
    "    skewness = 3*(mean - calculate_median(numbers))/std\n",
    "    return skewness\n",
    "\n",
    "data = [1,2,3,4,5,6,7,8,9,10]\n",
    "skewness = calculate_skewness(data)\n",
    "print('Skewness: {}'.format(skewness))\n",
    "\n",
    "data = [1,22,43,14,5,26,7,18,59,20]\n",
    "skewness = calculate_skewness(data)\n",
    "print('Skewness: {}'.format(skewness))\n",
    "\n",
    "data = [-1,2,3,-14,5,6,7,1,5,0]\n",
    "skewness = calculate_skewness(data)\n",
    "print('Skewness: {}'.format(skewness))\n"
   ]
  }
 ],
 "metadata": {
  "kernelspec": {
   "display_name": "base",
   "language": "python",
   "name": "python3"
  },
  "language_info": {
   "codemirror_mode": {
    "name": "ipython",
    "version": 3
   },
   "file_extension": ".py",
   "mimetype": "text/x-python",
   "name": "python",
   "nbconvert_exporter": "python",
   "pygments_lexer": "ipython3",
   "version": "3.9.13"
  },
  "orig_nbformat": 4,
  "vscode": {
   "interpreter": {
    "hash": "f4353b3cfb4ddc6d51abf00f1fd1cecb7ac70c587c5c2ddaeb0c1471b148fafc"
   }
  }
 },
 "nbformat": 4,
 "nbformat_minor": 2
}
