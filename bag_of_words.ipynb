{
 "cells": [
  {
   "cell_type": "markdown",
   "metadata": {},
   "source": [
    "# Problem statement\n",
    "We are learning feature engineering and we are looking at how to extract features from Text data. So the problem at hand is that how do we convert text data into numerical data so as to run them through ML algorithms.\n",
    "One way to do this is by using \"Bag of words\" method.\n",
    "\n",
    "We start off by importing CountVectorizer from sklearn python library."
   ]
  },
  {
   "cell_type": "code",
   "execution_count": 5,
   "metadata": {},
   "outputs": [],
   "source": [
    "\n",
    "from sklearn.feature_extraction.text import CountVectorizer"
   ]
  },
  {
   "cell_type": "markdown",
   "metadata": {},
   "source": [
    "We then pass the text data that we want to vectorize. Our goal is to convert these two sentences into a numerical representation."
   ]
  },
  {
   "cell_type": "code",
   "execution_count": 16,
   "metadata": {},
   "outputs": [],
   "source": [
    "text_data = [\"We will use short sentences to illustrate the concepts.\",\n",
    "             \"Once we get the concept of bag of words, we can move on.\"]"
   ]
  },
  {
   "cell_type": "markdown",
   "metadata": {},
   "source": [
    "The CountVectorizer function is a class in the sklearn library that is used to create a bag of words representation of text data. It does this by taking a corpus of text data and creating a vocabulary of words from it."
   ]
  },
  {
   "cell_type": "code",
   "execution_count": 17,
   "metadata": {},
   "outputs": [],
   "source": [
    "vectorizer = CountVectorizer()"
   ]
  },
  {
   "cell_type": "markdown",
   "metadata": {},
   "source": [
    "From the CountVectorizer class we call the fit_tranform function that converts the text data into a bag of words vectors."
   ]
  },
  {
   "cell_type": "code",
   "execution_count": 21,
   "metadata": {},
   "outputs": [],
   "source": [
    "bag_of_words = vectorizer.fit_transform(text_data)"
   ]
  },
  {
   "cell_type": "markdown",
   "metadata": {},
   "source": [
    "We can now see the full vocabulary. Here the vocabulary represents all the words we have in our text data.\n",
    "\n",
    "The way the vocabulary is created is by taking each unique word from our text data and assigning it a number.\n",
    "\n",
    "The result can be seen below."
   ]
  },
  {
   "cell_type": "code",
   "execution_count": 19,
   "metadata": {},
   "outputs": [
    {
     "name": "stdout",
     "output_type": "stream",
     "text": [
      "Vocabulary: {'we': 15, 'will': 16, 'use': 14, 'short': 11, 'sentences': 10, 'to': 13, 'illustrate': 5, 'the': 12, 'concepts': 3, 'once': 9, 'get': 4, 'concept': 2, 'of': 7, 'bag': 0, 'words': 17, 'can': 1, 'move': 6, 'on': 8}\n"
     ]
    }
   ],
   "source": [
    "print(\"Vocabulary:\", vectorizer.vocabulary_)"
   ]
  },
  {
   "cell_type": "markdown",
   "metadata": {},
   "source": [
    "Finally here is the \"bag of words\" representation of our text data. \n",
    "\n",
    "We go through each sentence in our text data. For each word in the sentence we look up the position in the vocabulary and increment that position.\n",
    "\n",
    "This way for each sentence we get a vector representation. In this representation we can tell how many times any word occurs in our sentences."
   ]
  },
  {
   "cell_type": "code",
   "execution_count": 20,
   "metadata": {},
   "outputs": [
    {
     "name": "stdout",
     "output_type": "stream",
     "text": [
      "Bag of words: [[0 0 0 1 0 1 0 0 0 0 1 1 1 1 1 1 1 0]\n",
      " [1 1 1 0 1 0 1 2 1 1 0 0 1 0 0 2 0 1]]\n"
     ]
    }
   ],
   "source": [
    "print(\"Bag of words:\", bag_of_words.toarray())"
   ]
  }
 ],
 "metadata": {
  "kernelspec": {
   "display_name": "Python 3.8.15 ('env')",
   "language": "python",
   "name": "python3"
  },
  "language_info": {
   "codemirror_mode": {
    "name": "ipython",
    "version": 3
   },
   "file_extension": ".py",
   "mimetype": "text/x-python",
   "name": "python",
   "nbconvert_exporter": "python",
   "pygments_lexer": "ipython3",
   "version": "3.8.15"
  },
  "orig_nbformat": 4,
  "vscode": {
   "interpreter": {
    "hash": "3be9f4e732ed8d2a8432346c901c2b4ddfa1bf0276b798dd80c83031cff82228"
   }
  }
 },
 "nbformat": 4,
 "nbformat_minor": 2
}
