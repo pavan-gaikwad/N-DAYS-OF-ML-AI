{
 "cells": [
  {
   "attachments": {},
   "cell_type": "markdown",
   "metadata": {},
   "source": [
    "## Pandas basics\n",
    "- pandas is a Python library that allows us to perform data analysis.\n",
    "- pandas can deal with one and 2 dimensional data.\n",
    "- For one-dimensional data, we use pandas.Series and for two dimensional data we use DataFrame.\n",
    "\n",
    "- Each element in the Series has an index. By default the index is an integer starting with 0.\n",
    "- We can add custom indexes using the \"index\" keyword."
   ]
  },
  {
   "cell_type": "code",
   "execution_count": 32,
   "metadata": {},
   "outputs": [
    {
     "name": "stdout",
     "output_type": "stream",
     "text": [
      "0   -0.445945\n",
      "1   -1.320692\n",
      "2    1.461804\n",
      "3   -0.436413\n",
      "dtype: float64\n",
      "a    0.875488\n",
      "b    0.213897\n",
      "c   -0.542498\n",
      "d   -1.224826\n",
      "dtype: float64\n",
      "b    1\n",
      "a    0\n",
      "c    2\n",
      "dtype: int64\n",
      "b    1.0\n",
      "c    2.0\n",
      "d    NaN\n",
      "a    0.0\n",
      "dtype: float64\n"
     ]
    }
   ],
   "source": [
    "import pandas as pd\n",
    "import numpy as np\n",
    "\n",
    "# Create a series with 4 random numbers\n",
    "s = pd.Series(np.random.randn(4))\n",
    "print(s)\n",
    "\n",
    "# Create a series with 4 random numbers and an index\n",
    "s = pd.Series(np.random.randn(4), index=['a', 'b', 'c', 'd'])\n",
    "print(s)\n",
    "\n",
    "# Create a series from a dictionary\n",
    "d = {'b' : 1, 'a' : 0, 'c' : 2}\n",
    "s = pd.Series(d)\n",
    "print(s)\n",
    "\n",
    "# Create a series from a dictionary with an index\n",
    "# notice the NaN values for the missing keys\n",
    "d = {'b' : 1, 'a' : 0, 'c' : 2}\n",
    "s = pd.Series(d, index=['b', 'c', 'd', 'a'])\n",
    "print(s)\n"
   ]
  },
  {
   "attachments": {},
   "cell_type": "markdown",
   "metadata": {},
   "source": [
    "## DataFrame\n",
    "- DataFrames help us work with tabular data.\n",
    "\n",
    "- The labels for rows is specified by \"index\" keyword, for columns it is specified by \"columns\" keyword.\n"
   ]
  },
  {
   "cell_type": "code",
   "execution_count": 33,
   "metadata": {},
   "outputs": [
    {
     "name": "stdout",
     "output_type": "stream",
     "text": [
      "          A         B         C         D\n",
      "0 -1.193820 -0.983276  1.427023  1.749793\n",
      "1  0.589161  0.287724 -1.014136  0.430994\n",
      "2  0.182868 -0.948361 -0.435162  0.717837\n",
      "3  0.952992  0.728620  2.073391 -0.585289\n",
      "4 -0.741834  0.512742  0.913819  0.855094\n",
      "5 -0.287674  0.739805 -0.952221 -0.283430\n",
      "6  0.319395  1.186191  0.439914 -0.910460\n",
      "7 -0.441900 -0.045551  0.486682 -0.797498\n",
      "8 -0.726187 -1.472991 -1.313478  0.784341\n",
      "9  1.150074 -0.815494  0.387999 -0.751721\n"
     ]
    }
   ],
   "source": [
    "# DataFrame with random numbers and column labels\n",
    "df = pd.DataFrame(np.random.randn(10, 4), columns=['A', 'B', 'C', 'D'])\n",
    "print(df)"
   ]
  },
  {
   "cell_type": "code",
   "execution_count": 34,
   "metadata": {},
   "outputs": [
    {
     "name": "stdout",
     "output_type": "stream",
     "text": [
      "   A  B\n",
      "a  0  1\n",
      "b  2  3\n",
      "c  4  5\n",
      "d  6  7\n",
      "e  8  9\n",
      "   a  b  c\n",
      "0  1  3  4\n",
      "1  1  3  4\n",
      "2  1  3  4\n"
     ]
    }
   ],
   "source": [
    "# DataFrame with random numbers and both row and column labels\n",
    "df = pd.DataFrame(np.arange(10).reshape(5, 2),index=['a','b','c','d','e'], columns=['A', 'B'])\n",
    "print(df)\n",
    "\n",
    "# DataFrame from a scalar dictionary. \n",
    "# Here you cannot create a DataFrame from a scalar dictionary without passing an index\n",
    "df = pd.DataFrame({'a':1,'b':3,'c':4}, index=[0,1,2])\n",
    "print(df)"
   ]
  },
  {
   "attachments": {},
   "cell_type": "markdown",
   "metadata": {},
   "source": [
    "## Upcasting\n",
    "- In DataFrames, if the data is of mixed type, the upcasting occurs at the per-column basis.\n",
    "\n",
    "- This is similar to how you would format values in a spreadsheet."
   ]
  },
  {
   "cell_type": "code",
   "execution_count": 35,
   "metadata": {},
   "outputs": [
    {
     "name": "stdout",
     "output_type": "stream",
     "text": [
      "     A  B      C\n",
      "0  1.0  2  hello\n",
      "1  2.0  3      1 \n",
      "\n",
      "A    float64\n",
      "B      int64\n",
      "C     object\n",
      "dtype: object\n"
     ]
    }
   ],
   "source": [
    "# DataFrame upcasting\n",
    "# Notice each column is upcasted to the most suitable type\n",
    "df = pd.DataFrame({'A' : [1.,2.],'B':[2,3], 'C':['hello',1]}, index=[0,1])\n",
    "print(df, '\\n')\n",
    "print(df.dtypes)"
   ]
  },
  {
   "attachments": {},
   "cell_type": "markdown",
   "metadata": {},
   "source": [
    "## Appending data to DataFrames\n",
    "- We can append data to the DataFrame, either using a Series or another DataFrame.\n",
    "\n",
    "- append function now is being deprecated in favour of concat.\n",
    "\n"
   ]
  },
  {
   "cell_type": "code",
   "execution_count": 36,
   "metadata": {},
   "outputs": [
    {
     "name": "stdout",
     "output_type": "stream",
     "text": [
      "          0         1         2         3\n",
      "0 -0.460343 -0.253981 -0.656827 -0.465146\n",
      "1 -0.951850  0.357795 -0.679560  0.394420\n",
      "2 -1.165198  0.913833  1.721618 -0.660461\n",
      "3 -1.692367 -0.842518 -1.051814  0.745066 \n",
      "\n",
      "          0         1         2\n",
      "0  0.690215  0.039695  0.085907\n",
      "1 -1.268703  1.787401 -1.172152\n",
      "2  0.427027  0.892476 -0.782744 \n",
      "\n",
      "          0         1         2         3\n",
      "0 -0.460343 -0.253981 -0.656827 -0.465146\n",
      "1 -0.951850  0.357795 -0.679560  0.394420\n",
      "2 -1.165198  0.913833  1.721618 -0.660461\n",
      "3 -1.692367 -0.842518 -1.051814  0.745066\n",
      "0  0.690215  0.039695  0.085907       NaN\n",
      "1 -1.268703  1.787401 -1.172152       NaN\n",
      "2  0.427027  0.892476 -0.782744       NaN \n",
      "\n",
      "          0         1         2         3         0         1         2\n",
      "0 -0.460343 -0.253981 -0.656827 -0.465146  0.690215  0.039695  0.085907\n",
      "1 -0.951850  0.357795 -0.679560  0.394420 -1.268703  1.787401 -1.172152\n",
      "2 -1.165198  0.913833  1.721618 -0.660461  0.427027  0.892476 -0.782744\n",
      "3 -1.692367 -0.842518 -1.051814  0.745066       NaN       NaN       NaN \n",
      "\n"
     ]
    }
   ],
   "source": [
    "# concat data frames\n",
    "df1 = pd.DataFrame(np.random.randn(4, 4))\n",
    "print(df1, '\\n')\n",
    "df2 = pd.DataFrame(np.random.randn(3, 3))\n",
    "print(df2, '\\n')\n",
    "\n",
    "# axis=0 means concat along the rows\n",
    "df3 = pd.concat([df1, df2], axis=0)\n",
    "print(df3, '\\n')\n",
    "\n",
    "# axis=1 means concat along the columns\n",
    "df4 = pd.concat([df1, df2], axis=1)\n",
    "print(df4, '\\n')\n",
    "\n"
   ]
  },
  {
   "attachments": {},
   "cell_type": "markdown",
   "metadata": {},
   "source": [
    "## Dropping data from DataFrame\n",
    "- We use the \"drop\" function to remove rows or columns from a given DataFrame.\n",
    "\n",
    "- Notice how the drop function returns a new DataFrame while keeping the original unmodified."
   ]
  },
  {
   "cell_type": "code",
   "execution_count": 37,
   "metadata": {},
   "outputs": [
    {
     "name": "stdout",
     "output_type": "stream",
     "text": [
      "          0         1         2         3\n",
      "0 -0.140739 -0.574950  1.123004  0.061094\n",
      "1 -1.325015 -0.047437 -0.662744  1.090997\n",
      "2 -0.282725 -0.115141 -0.676267  0.788252\n",
      "3 -0.154298  0.964851  0.274268 -1.074325 \n",
      "\n",
      "          0         1         2         3\n",
      "1 -1.325015 -0.047437 -0.662744  1.090997\n",
      "2 -0.282725 -0.115141 -0.676267  0.788252\n",
      "3 -0.154298  0.964851  0.274268 -1.074325 \n",
      "\n",
      "          0         1         2         3\n",
      "1 -1.325015 -0.047437 -0.662744  1.090997\n",
      "2 -0.282725 -0.115141 -0.676267  0.788252 \n",
      "\n",
      "          1         2         3\n",
      "0 -0.574950  1.123004  0.061094\n",
      "1 -0.047437 -0.662744  1.090997\n",
      "2 -0.115141 -0.676267  0.788252\n",
      "3  0.964851  0.274268 -1.074325 \n",
      "\n",
      "          0         1         2\n",
      "1 -1.325015 -0.047437 -0.662744\n",
      "2 -0.282725 -0.115141 -0.676267\n",
      "3 -0.154298  0.964851  0.274268 \n",
      "\n"
     ]
    }
   ],
   "source": [
    "# drop data from a DataFrame\n",
    "df = pd.DataFrame(np.random.randn(4, 4))\n",
    "print(df, '\\n')\n",
    "\n",
    "# drop the first row\n",
    "df1 = df.drop(df.index[0])\n",
    "print(df1, '\\n')\n",
    "\n",
    "# drop the first and last row\n",
    "df2 = df.drop(df.index[[0,-1]])\n",
    "print(df2, '\\n')\n",
    "\n",
    "# drop the first column\n",
    "df3 = df.drop(df.columns[0], axis=1)\n",
    "print(df3, '\\n')\n",
    "\n",
    "# drop both the first row and last column\n",
    "# notice the use of the drop method twice\n",
    "df4 = df.drop(df.index[0]).drop(df.columns[-1], axis=1)\n",
    "print(df4, '\\n')\n",
    "\n"
   ]
  },
  {
   "attachments": {},
   "cell_type": "markdown",
   "metadata": {},
   "source": [
    "## Accessing elements from a DataFrame"
   ]
  },
  {
   "cell_type": "code",
   "execution_count": 38,
   "metadata": {},
   "outputs": [
    {
     "name": "stdout",
     "output_type": "stream",
     "text": [
      "          A         B         C         D\n",
      "0 -0.662594 -0.441515  0.866200 -1.470496\n",
      "1 -0.431025 -1.138972 -0.779091 -0.361117\n",
      "2  2.166971  0.217546 -0.613830 -1.316171\n",
      "3 -0.733857  0.665479 -1.052862 -0.414867 \n",
      "\n",
      "A   -0.662594\n",
      "B   -0.441515\n",
      "C    0.866200\n",
      "D   -1.470496\n",
      "Name: 0, dtype: float64 \n",
      "\n",
      "0   -0.662594\n",
      "1   -0.431025\n",
      "2    2.166971\n",
      "3   -0.733857\n",
      "Name: A, dtype: float64 \n",
      "\n",
      "-0.6625944367464723 \n",
      "\n",
      "A   -0.662594\n",
      "B   -0.441515\n",
      "Name: 0, dtype: float64 \n",
      "\n",
      "          A         B        C         D\n",
      "0 -0.662594 -0.441515  0.86620 -1.470496\n",
      "2  2.166971  0.217546 -0.61383 -1.316171 \n",
      "\n"
     ]
    }
   ],
   "source": [
    "# accessing elements from a DataFrame\n",
    "df = pd.DataFrame(np.random.randn(4, 4), columns=['A', 'B', 'C', 'D'])\n",
    "print(df, '\\n')\n",
    "\n",
    "# access the first row\n",
    "print(df.iloc[0], '\\n')\n",
    "\n",
    "# access the first column\n",
    "print(df.iloc[:,0], '\\n')\n",
    "\n",
    "# access the first row and first column\n",
    "print(df.iloc[0,0], '\\n')\n",
    "\n",
    "# access the first row and first two columns\n",
    "print(df.iloc[0,0:2], '\\n')\n",
    "\n",
    "# access first and third row\n",
    "print(df.iloc[[0,2]], '\\n')\n"
   ]
  },
  {
   "attachments": {},
   "cell_type": "markdown",
   "metadata": {},
   "source": [
    "## Grouping data"
   ]
  },
  {
   "cell_type": "code",
   "execution_count": 39,
   "metadata": {},
   "outputs": [
    {
     "name": "stdout",
     "output_type": "stream",
     "text": [
      "     A      B         C         D\n",
      "0  foo    one -0.191712  0.290158\n",
      "1  bar    one -1.148870  0.269147\n",
      "2  foo    two  1.446640 -0.494523\n",
      "3  bar  three  0.215122  1.522865\n",
      "4  foo    two  0.030655 -1.038506\n",
      "5  bar    two -1.103106  0.768592\n",
      "6  foo    one -0.285698  0.500283\n",
      "7  foo  three  0.492722  0.518543 \n",
      "\n",
      "            C         D\n",
      "A                      \n",
      "bar -2.036854  2.560605\n",
      "foo  1.492607 -0.224044 \n",
      "\n",
      "                  C         D\n",
      "A   B                        \n",
      "bar one   -1.148870  0.269147\n",
      "    three  0.215122  1.522865\n",
      "    two   -1.103106  0.768592\n",
      "foo one   -0.477410  0.790441\n",
      "    three  0.492722  0.518543\n",
      "    two    1.477295 -1.533029 \n",
      "\n"
     ]
    }
   ],
   "source": [
    "# groupby demo with a DataFrame\n",
    "df = pd.DataFrame({'A' : ['foo', 'bar', 'foo', 'bar',\n",
    "                            'foo', 'bar', 'foo', 'foo'],\n",
    "                    'B' : ['one', 'one', 'two', 'three',\n",
    "                            'two', 'two', 'one', 'three'],\n",
    "                    'C' : np.random.randn(8),\n",
    "                    'D' : np.random.randn(8)})\n",
    "print(df, '\\n')\n",
    "\n",
    "# group by A and sum the values in C\n",
    "print(df.groupby('A').sum(), '\\n')\n",
    "\n",
    "# group by A and B and sum the values in C\n",
    "print(df.groupby(['A','B']).sum(), '\\n')\n",
    "\n",
    "\n"
   ]
  },
  {
   "cell_type": "code",
   "execution_count": 40,
   "metadata": {},
   "outputs": [
    {
     "name": "stdout",
     "output_type": "stream",
     "text": [
      "     A      B         C         D\n",
      "0  foo    one -1.303674  0.246760\n",
      "1  bar    one  0.220157  0.961854\n",
      "2  foo    two -1.181591  2.211784\n",
      "3  bar  three -0.551541 -0.456083\n",
      "4  foo    two -0.149208 -1.227642\n",
      "5  bar    two  1.072285 -1.006910\n",
      "6  foo    one  0.513676  1.716835\n",
      "7  foo  three -1.517448  3.165538 \n",
      "\n",
      "     A      B         C         D\n",
      "1  bar    one  0.220157  0.961854\n",
      "3  bar  three -0.551541 -0.456083\n",
      "5  bar    two  1.072285 -1.006910\n",
      "0  foo    one -1.303674  0.246760\n",
      "2  foo    two -1.181591  2.211784\n",
      "4  foo    two -0.149208 -1.227642\n",
      "6  foo    one  0.513676  1.716835\n",
      "7  foo  three -1.517448  3.165538 \n",
      "\n",
      "     A      B         C         D\n",
      "1  bar    one  0.220157  0.961854\n",
      "3  bar  three -0.551541 -0.456083\n",
      "5  bar    two  1.072285 -1.006910\n",
      "0  foo    one -1.303674  0.246760\n",
      "6  foo    one  0.513676  1.716835\n",
      "7  foo  three -1.517448  3.165538\n",
      "2  foo    two -1.181591  2.211784\n",
      "4  foo    two -0.149208 -1.227642 \n",
      "\n",
      "     A      B         C         D\n",
      "0  foo    one -1.303674  0.246760\n",
      "2  foo    two -1.181591  2.211784\n",
      "4  foo    two -0.149208 -1.227642\n",
      "6  foo    one  0.513676  1.716835\n",
      "7  foo  three -1.517448  3.165538\n",
      "1  bar    one  0.220157  0.961854\n",
      "3  bar  three -0.551541 -0.456083\n",
      "5  bar    two  1.072285 -1.006910 \n",
      "\n",
      "     A      B         C         D\n",
      "5  bar    two  1.072285 -1.006910\n",
      "3  bar  three -0.551541 -0.456083\n",
      "1  bar    one  0.220157  0.961854\n",
      "2  foo    two -1.181591  2.211784\n",
      "4  foo    two -0.149208 -1.227642\n",
      "7  foo  three -1.517448  3.165538\n",
      "0  foo    one -1.303674  0.246760\n",
      "6  foo    one  0.513676  1.716835 \n",
      "\n"
     ]
    }
   ],
   "source": [
    "# sorting demo with a DataFrame\n",
    "df = pd.DataFrame({'A' : ['foo', 'bar', 'foo', 'bar',\n",
    "                            'foo', 'bar', 'foo', 'foo'],\n",
    "                    'B' : ['one', 'one', 'two', 'three',\n",
    "                            'two', 'two', 'one', 'three'],\n",
    "                    'C' : np.random.randn(8),\n",
    "                    'D' : np.random.randn(8)})\n",
    "print(df, '\\n')\n",
    "\n",
    "# sort by column A\n",
    "print(df.sort_values(by='A'), '\\n')\n",
    "\n",
    "# sort by column A and then by column B\n",
    "print(df.sort_values(by=['A','B']), '\\n')\n",
    "\n",
    "# sort by column A in descending order\n",
    "print(df.sort_values(by='A', ascending=False), '\\n')\n",
    "\n",
    "# sort by column A and then by column B in descending order\n",
    "print(df.sort_values(by=['A','B'], ascending=[True,False]), '\\n')\n"
   ]
  },
  {
   "cell_type": "code",
   "execution_count": 41,
   "metadata": {},
   "outputs": [
    {
     "name": "stdout",
     "output_type": "stream",
     "text": [
      "     A      B         C         D\n",
      "0  foo    one -0.786207  0.780677\n",
      "2  foo    two  1.898877 -1.284035\n",
      "4  foo    two  0.414662  0.076348\n",
      "6  foo    one  1.503069  1.706267\n",
      "7  foo  three  0.703213 -0.882494 \n",
      "\n",
      "     A    B         C         D\n",
      "0  foo  one -0.786207  0.780677\n",
      "6  foo  one  1.503069  1.706267 \n",
      "\n"
     ]
    }
   ],
   "source": [
    "# filering demo with a DataFrame\n",
    "df = pd.DataFrame({'A' : ['foo', 'bar', 'foo', 'bar',\n",
    "                            'foo', 'bar', 'foo', 'foo'],\n",
    "                    'B' : ['one', 'one', 'two', 'three',\n",
    "                            'two', 'two', 'one', 'three'],\n",
    "                    'C' : np.random.randn(8),\n",
    "                    'D' : np.random.randn(8)})\n",
    "\n",
    "# filter rows where column A has value foo\n",
    "print(df[df['A'] == 'foo'], '\\n')\n",
    "\n",
    "# filter rows where column A has value foo and column B has value one\n",
    "print(df[(df['A'] == 'foo') & (df['B'] == 'one')], '\\n')\n"
   ]
  },
  {
   "attachments": {},
   "cell_type": "markdown",
   "metadata": {},
   "source": [
    "## describe function to get metrics\n",
    "- Describe function gives you count, mean, sum, percentiles, etc. for numerical features."
   ]
  },
  {
   "cell_type": "code",
   "execution_count": 42,
   "metadata": {},
   "outputs": [
    {
     "name": "stdout",
     "output_type": "stream",
     "text": [
      "              C         D\n",
      "count  8.000000  8.000000\n",
      "mean   0.611355 -0.273129\n",
      "std    1.204481  1.155660\n",
      "min   -0.442703 -1.925295\n",
      "25%   -0.293939 -0.982377\n",
      "50%    0.169433 -0.304303\n",
      "75%    1.276295  0.420773\n",
      "max    2.971910  1.453572 \n",
      "\n",
      "              C         D\n",
      "count  8.000000  8.000000\n",
      "mean   0.611355 -0.273129\n",
      "std    1.204481  1.155660\n",
      "min   -0.442703 -1.925295\n",
      "5%    -0.433037 -1.756459\n",
      "25%   -0.293939 -0.982377\n",
      "50%    0.169433 -0.304303\n",
      "75%    1.276295  0.420773\n",
      "95%    2.451324  1.262993\n",
      "max    2.971910  1.453572 \n",
      "\n"
     ]
    }
   ],
   "source": [
    "# describe demo with a DataFrame\n",
    "df = pd.DataFrame({'A' : ['foo', 'bar', 'foo', 'bar',  \n",
    "                            'foo', 'bar', 'foo', 'foo'],\n",
    "                    'B' : ['one', 'one', 'two', 'three',\n",
    "                            'two', 'two', 'one', 'three'],  \n",
    "                    'C' : np.random.randn(8),\n",
    "                    'D' : np.random.randn(8)})\n",
    "\n",
    "# describe the DataFrame\n",
    "print(df.describe(), '\\n')\n",
    "\n",
    "# percentiles \n",
    "print(df.describe(percentiles=[.05, .25, .5, .75, .95]), '\\n')\n"
   ]
  },
  {
   "attachments": {},
   "cell_type": "markdown",
   "metadata": {},
   "source": [
    "## Converting dataframes into numpy matrices"
   ]
  },
  {
   "cell_type": "code",
   "execution_count": 43,
   "metadata": {},
   "outputs": [
    {
     "name": "stdout",
     "output_type": "stream",
     "text": [
      "          C         D  A_bar  A_foo  B_one  B_three  B_two\n",
      "0 -0.622308 -0.492246      0      1      1        0      0\n",
      "1 -0.534948 -0.047032      1      0      1        0      0\n",
      "2  0.952138  2.265231      0      1      0        0      1\n",
      "3 -0.886507  0.773916      1      0      0        1      0\n",
      "4  0.139746 -3.616231      0      1      0        0      1\n",
      "5  0.281794 -0.605569      1      0      0        0      1\n",
      "6  0.600223  0.404806      0      1      1        0      0\n",
      "7 -1.539877 -0.725982      0      1      0        1      0 \n",
      "\n",
      "[[-0.62230795 -0.49224577  0.          1.          1.          0.\n",
      "   0.        ]\n",
      " [-0.5349484  -0.04703176  1.          0.          1.          0.\n",
      "   0.        ]\n",
      " [ 0.95213758  2.26523102  0.          1.          0.          0.\n",
      "   1.        ]\n",
      " [-0.88650705  0.77391626  1.          0.          0.          1.\n",
      "   0.        ]\n",
      " [ 0.13974649 -3.61623084  0.          1.          0.          0.\n",
      "   1.        ]\n",
      " [ 0.28179357 -0.60556877  1.          0.          0.          0.\n",
      "   1.        ]\n",
      " [ 0.60022346  0.40480551  0.          1.          1.          0.\n",
      "   0.        ]\n",
      " [-1.53987732 -0.72598244  0.          1.          0.          1.\n",
      "   0.        ]] \n",
      "\n"
     ]
    }
   ],
   "source": [
    "# convert a DataFrame to a numpy array\n",
    "df = pd.DataFrame({'A' : ['foo', 'bar', 'foo', 'bar',\n",
    "                            'foo', 'bar', 'foo', 'foo'],\n",
    "                    'B' : ['one', 'one', 'two', 'three',\n",
    "                            'two', 'two', 'one', 'three'],\n",
    "                    'C' : np.random.randn(8),\n",
    "                    'D' : np.random.randn(8)})\n",
    "\n",
    "dum = pd.get_dummies(df)\n",
    "print(dum, '\\n')\n",
    "martix = dum.values\n",
    "print(martix, '\\n')\n",
    "\n"
   ]
  }
 ],
 "metadata": {
  "kernelspec": {
   "display_name": "base",
   "language": "python",
   "name": "python3"
  },
  "language_info": {
   "codemirror_mode": {
    "name": "ipython",
    "version": 3
   },
   "file_extension": ".py",
   "mimetype": "text/x-python",
   "name": "python",
   "nbconvert_exporter": "python",
   "pygments_lexer": "ipython3",
   "version": "3.9.13"
  },
  "orig_nbformat": 4,
  "vscode": {
   "interpreter": {
    "hash": "f4353b3cfb4ddc6d51abf00f1fd1cecb7ac70c587c5c2ddaeb0c1471b148fafc"
   }
  }
 },
 "nbformat": 4,
 "nbformat_minor": 2
}
