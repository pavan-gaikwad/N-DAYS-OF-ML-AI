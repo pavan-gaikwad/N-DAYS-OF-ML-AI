{
 "cells": [
  {
   "attachments": {},
   "cell_type": "markdown",
   "metadata": {},
   "source": [
    "## Pandas basics\n",
    "- pandas is a Python library that allows us to perform data analysis.\n",
    "- pandas can deal with one and 2 dimensional data.\n",
    "- For one-dimensional data, we use pandas.Series and for two dimensional data we use DataFrame.\n",
    "\n",
    "- Each element in the Series has an index. By default the index is an integer starting with 0.\n",
    "- We can add custom indexes using the \"index\" keyword."
   ]
  },
  {
   "cell_type": "code",
   "execution_count": 55,
   "metadata": {},
   "outputs": [
    {
     "name": "stdout",
     "output_type": "stream",
     "text": [
      "0    1.708562\n",
      "1    0.915659\n",
      "2    0.281823\n",
      "3    0.734974\n",
      "dtype: float64\n",
      "a    0.780682\n",
      "b    1.422925\n",
      "c   -0.684985\n",
      "d    0.367584\n",
      "dtype: float64\n",
      "b    1\n",
      "a    0\n",
      "c    2\n",
      "dtype: int64\n",
      "b    1.0\n",
      "c    2.0\n",
      "d    NaN\n",
      "a    0.0\n",
      "dtype: float64\n"
     ]
    }
   ],
   "source": [
    "import pandas as pd\n",
    "import numpy as np\n",
    "\n",
    "# Create a series with 4 random numbers\n",
    "s = pd.Series(np.random.randn(4))\n",
    "print(s)\n",
    "\n",
    "# Create a series with 4 random numbers and an index\n",
    "s = pd.Series(np.random.randn(4), index=['a', 'b', 'c', 'd'])\n",
    "print(s)\n",
    "\n",
    "# Create a series from a dictionary\n",
    "d = {'b' : 1, 'a' : 0, 'c' : 2}\n",
    "s = pd.Series(d)\n",
    "print(s)\n",
    "\n",
    "# Create a series from a dictionary with an index\n",
    "# notice the NaN values for the missing keys\n",
    "d = {'b' : 1, 'a' : 0, 'c' : 2}\n",
    "s = pd.Series(d, index=['b', 'c', 'd', 'a'])\n",
    "print(s)\n"
   ]
  },
  {
   "attachments": {},
   "cell_type": "markdown",
   "metadata": {},
   "source": [
    "## DataFrame\n",
    "- DataFrames help us work with tabular data.\n",
    "\n",
    "- The labels for rows is specified by \"index\" keyword, for columns it is specified by \"columns\" keyword.\n"
   ]
  },
  {
   "cell_type": "code",
   "execution_count": 56,
   "metadata": {},
   "outputs": [
    {
     "name": "stdout",
     "output_type": "stream",
     "text": [
      "          A         B         C         D\n",
      "0  0.512569  0.133839  0.204247  1.774620\n",
      "1 -0.455914  0.355401 -0.292929  1.380157\n",
      "2 -0.402433  0.438282  0.660208 -0.103434\n",
      "3 -2.082001 -0.836116 -0.307990 -1.306658\n",
      "4 -1.582906  0.064342  0.266590 -1.011040\n",
      "5 -0.180062  0.830712  0.371717  0.901909\n",
      "6  0.442381  0.660326 -1.000940 -0.598404\n",
      "7 -0.970710 -0.378469  0.063490  0.633747\n",
      "8  0.517520  0.703864 -0.508730  0.654946\n",
      "9  0.366143  0.668599 -1.331724  0.074485\n"
     ]
    }
   ],
   "source": [
    "# DataFrame with random numbers and column labels\n",
    "df = pd.DataFrame(np.random.randn(10, 4), columns=['A', 'B', 'C', 'D'])\n",
    "print(df)"
   ]
  },
  {
   "cell_type": "code",
   "execution_count": 57,
   "metadata": {},
   "outputs": [
    {
     "name": "stdout",
     "output_type": "stream",
     "text": [
      "   A  B\n",
      "a  0  1\n",
      "b  2  3\n",
      "c  4  5\n",
      "d  6  7\n",
      "e  8  9\n",
      "   a  b  c\n",
      "0  1  3  4\n",
      "1  1  3  4\n",
      "2  1  3  4\n"
     ]
    }
   ],
   "source": [
    "# DataFrame with random numbers and both row and column labels\n",
    "df = pd.DataFrame(np.arange(10).reshape(5, 2),index=['a','b','c','d','e'], columns=['A', 'B'])\n",
    "print(df)\n",
    "\n",
    "# DataFrame from a scalar dictionary. \n",
    "# Here you cannot create a DataFrame from a scalar dictionary without passing an index\n",
    "df = pd.DataFrame({'a':1,'b':3,'c':4}, index=[0,1,2])\n",
    "print(df)"
   ]
  },
  {
   "attachments": {},
   "cell_type": "markdown",
   "metadata": {},
   "source": [
    "## Upcasting\n",
    "- In DataFrames, if the data is of mixed type, the upcasting occurs at the per-column basis.\n",
    "\n",
    "- This is similar to how you would format values in a spreadsheet."
   ]
  },
  {
   "cell_type": "code",
   "execution_count": 58,
   "metadata": {},
   "outputs": [
    {
     "name": "stdout",
     "output_type": "stream",
     "text": [
      "     A  B      C\n",
      "0  1.0  2  hello\n",
      "1  2.0  3      1 \n",
      "\n",
      "A    float64\n",
      "B      int64\n",
      "C     object\n",
      "dtype: object\n"
     ]
    }
   ],
   "source": [
    "# DataFrame upcasting\n",
    "# Notice each column is upcasted to the most suitable type\n",
    "df = pd.DataFrame({'A' : [1.,2.],'B':[2,3], 'C':['hello',1]}, index=[0,1])\n",
    "print(df, '\\n')\n",
    "print(df.dtypes)"
   ]
  },
  {
   "attachments": {},
   "cell_type": "markdown",
   "metadata": {},
   "source": [
    "## Appending data to DataFrames\n",
    "- We can append data to the DataFrame, either using a Series or another DataFrame.\n",
    "\n",
    "- append function now is being deprecated in favour of concat.\n",
    "\n"
   ]
  },
  {
   "cell_type": "code",
   "execution_count": 59,
   "metadata": {},
   "outputs": [
    {
     "name": "stdout",
     "output_type": "stream",
     "text": [
      "          0         1         2         3\n",
      "0  0.077604  0.384995 -0.790249  0.950822\n",
      "1 -0.066026 -0.879447 -1.553207  0.208840\n",
      "2 -0.127289 -1.151952  1.071695 -0.909430\n",
      "3  0.193411 -1.024189  0.422127  0.099248 \n",
      "\n",
      "          0         1         2\n",
      "0  1.237672  1.677541  1.250144\n",
      "1  1.286512 -0.335135  0.644909\n",
      "2  0.442381  1.421472  1.706112 \n",
      "\n",
      "          0         1         2         3\n",
      "0  0.077604  0.384995 -0.790249  0.950822\n",
      "1 -0.066026 -0.879447 -1.553207  0.208840\n",
      "2 -0.127289 -1.151952  1.071695 -0.909430\n",
      "3  0.193411 -1.024189  0.422127  0.099248\n",
      "0  1.237672  1.677541  1.250144       NaN\n",
      "1  1.286512 -0.335135  0.644909       NaN\n",
      "2  0.442381  1.421472  1.706112       NaN \n",
      "\n",
      "          0         1         2         3         0         1         2\n",
      "0  0.077604  0.384995 -0.790249  0.950822  1.237672  1.677541  1.250144\n",
      "1 -0.066026 -0.879447 -1.553207  0.208840  1.286512 -0.335135  0.644909\n",
      "2 -0.127289 -1.151952  1.071695 -0.909430  0.442381  1.421472  1.706112\n",
      "3  0.193411 -1.024189  0.422127  0.099248       NaN       NaN       NaN \n",
      "\n"
     ]
    }
   ],
   "source": [
    "# concat data frames\n",
    "df1 = pd.DataFrame(np.random.randn(4, 4))\n",
    "print(df1, '\\n')\n",
    "df2 = pd.DataFrame(np.random.randn(3, 3))\n",
    "print(df2, '\\n')\n",
    "\n",
    "# axis=0 means concat along the rows\n",
    "df3 = pd.concat([df1, df2], axis=0)\n",
    "print(df3, '\\n')\n",
    "\n",
    "# axis=1 means concat along the columns\n",
    "df4 = pd.concat([df1, df2], axis=1)\n",
    "print(df4, '\\n')\n",
    "\n"
   ]
  },
  {
   "attachments": {},
   "cell_type": "markdown",
   "metadata": {},
   "source": [
    "## Dropping data from DataFrame\n",
    "- We use the \"drop\" function to remove rows or columns from a given DataFrame.\n",
    "\n",
    "- Notice how the drop function returns a new DataFrame while keeping the original unmodified."
   ]
  },
  {
   "cell_type": "code",
   "execution_count": 61,
   "metadata": {},
   "outputs": [
    {
     "name": "stdout",
     "output_type": "stream",
     "text": [
      "          0         1         2         3\n",
      "0  0.294781  1.147258 -1.150713  0.266510\n",
      "1  0.984694 -0.809137 -0.472871 -0.406626\n",
      "2  0.970109  0.160603  1.256643  0.614948\n",
      "3 -0.009581 -1.389422 -1.384330 -1.337385 \n",
      "\n",
      "          0         1         2         3\n",
      "1  0.984694 -0.809137 -0.472871 -0.406626\n",
      "2  0.970109  0.160603  1.256643  0.614948\n",
      "3 -0.009581 -1.389422 -1.384330 -1.337385 \n",
      "\n",
      "          0         1         2         3\n",
      "1  0.984694 -0.809137 -0.472871 -0.406626\n",
      "2  0.970109  0.160603  1.256643  0.614948 \n",
      "\n",
      "          1         2         3\n",
      "0  1.147258 -1.150713  0.266510\n",
      "1 -0.809137 -0.472871 -0.406626\n",
      "2  0.160603  1.256643  0.614948\n",
      "3 -1.389422 -1.384330 -1.337385 \n",
      "\n",
      "          0         1         2\n",
      "1  0.984694 -0.809137 -0.472871\n",
      "2  0.970109  0.160603  1.256643\n",
      "3 -0.009581 -1.389422 -1.384330 \n",
      "\n"
     ]
    }
   ],
   "source": [
    "# drop data from a DataFrame\n",
    "df = pd.DataFrame(np.random.randn(4, 4))\n",
    "print(df, '\\n')\n",
    "\n",
    "# drop the first row\n",
    "df1 = df.drop(df.index[0])\n",
    "print(df1, '\\n')\n",
    "\n",
    "# drop the first and last row\n",
    "df2 = df.drop(df.index[[0,-1]])\n",
    "print(df2, '\\n')\n",
    "\n",
    "# drop the first column\n",
    "df3 = df.drop(df.columns[0], axis=1)\n",
    "print(df3, '\\n')\n",
    "\n",
    "# drop both the first row and last column\n",
    "# notice the use of the drop method twice\n",
    "df4 = df.drop(df.index[0]).drop(df.columns[-1], axis=1)\n",
    "print(df4, '\\n')\n",
    "\n"
   ]
  },
  {
   "attachments": {},
   "cell_type": "markdown",
   "metadata": {},
   "source": [
    "## Accessing elements from a DataFrame"
   ]
  },
  {
   "cell_type": "code",
   "execution_count": 62,
   "metadata": {},
   "outputs": [
    {
     "name": "stdout",
     "output_type": "stream",
     "text": [
      "          A         B         C         D\n",
      "0 -0.354083  1.130136  1.282740 -0.098677\n",
      "1 -2.397465 -1.777443 -0.664287  0.848176\n",
      "2 -1.106927 -2.609637  0.721658 -1.745914\n",
      "3 -1.762365 -0.281043  0.646177 -1.298624 \n",
      "\n",
      "A   -0.354083\n",
      "B    1.130136\n",
      "C    1.282740\n",
      "D   -0.098677\n",
      "Name: 0, dtype: float64 \n",
      "\n",
      "0   -0.354083\n",
      "1   -2.397465\n",
      "2   -1.106927\n",
      "3   -1.762365\n",
      "Name: A, dtype: float64 \n",
      "\n",
      "-0.3540830802400707 \n",
      "\n",
      "A   -0.354083\n",
      "B    1.130136\n",
      "Name: 0, dtype: float64 \n",
      "\n"
     ]
    }
   ],
   "source": [
    "# accessing elements from a DataFrame\n",
    "df = pd.DataFrame(np.random.randn(4, 4), columns=['A', 'B', 'C', 'D'])\n",
    "print(df, '\\n')\n",
    "\n",
    "# access the first row\n",
    "print(df.iloc[0], '\\n')\n",
    "\n",
    "# access the first column\n",
    "print(df.iloc[:,0], '\\n')\n",
    "\n",
    "# access the first row and first column\n",
    "print(df.iloc[0,0], '\\n')\n",
    "\n",
    "# access the first row and first two columns\n",
    "print(df.iloc[0,0:2], '\\n')\n",
    "\n",
    "# access first and third row\n",
    "print(df.iloc[[0,2]], '\\n')\n"
   ]
  }
 ],
 "metadata": {
  "kernelspec": {
   "display_name": "base",
   "language": "python",
   "name": "python3"
  },
  "language_info": {
   "codemirror_mode": {
    "name": "ipython",
    "version": 3
   },
   "file_extension": ".py",
   "mimetype": "text/x-python",
   "name": "python",
   "nbconvert_exporter": "python",
   "pygments_lexer": "ipython3",
   "version": "3.9.13"
  },
  "orig_nbformat": 4,
  "vscode": {
   "interpreter": {
    "hash": "f4353b3cfb4ddc6d51abf00f1fd1cecb7ac70c587c5c2ddaeb0c1471b148fafc"
   }
  }
 },
 "nbformat": 4,
 "nbformat_minor": 2
}
