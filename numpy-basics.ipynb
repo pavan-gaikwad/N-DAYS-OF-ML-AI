{
 "cells": [
  {
   "attachments": {},
   "cell_type": "markdown",
   "metadata": {},
   "source": [
    "- ML requires all data to be in numeric form. Data that is not numeric is converted to numeric form.\n",
    "- The best library we have right now for numeric calculations in Python is numpy."
   ]
  },
  {
   "attachments": {},
   "cell_type": "markdown",
   "metadata": {},
   "source": [
    "## Create an array"
   ]
  },
  {
   "cell_type": "code",
   "execution_count": 189,
   "metadata": {},
   "outputs": [
    {
     "name": "stdout",
     "output_type": "stream",
     "text": [
      "[1. 2. 3. 4. 5.]\n"
     ]
    }
   ],
   "source": [
    "import numpy as np\n",
    "\n",
    "arr = np.array([1, 2, 3, 4, 5], dtype=np.float32)\n",
    "print(arr)"
   ]
  },
  {
   "attachments": {},
   "cell_type": "markdown",
   "metadata": {},
   "source": [
    "- dtype ensures that all the elements of the array are of the same, given type.\n",
    "- In case your data contains a mixed type, then numpy would \"upcast\" the datatypes, but will keep them in the same type.\n",
    "- Let's say you have all integers but one string element, the to ensure all elements are of the same type, numpy would \"upcast\" the Integers into String.\n",
    "- A numpy array is same as a Python list but with more features. We can easily convert a python list into a numpy array."
   ]
  },
  {
   "attachments": {},
   "cell_type": "markdown",
   "metadata": {},
   "source": [
    "## Copy an array"
   ]
  },
  {
   "cell_type": "code",
   "execution_count": 190,
   "metadata": {},
   "outputs": [
    {
     "name": "stdout",
     "output_type": "stream",
     "text": [
      "x =  [10  2  3]\n",
      "y =  [10  2  3]\n",
      "z = [1 2 3]\n"
     ]
    }
   ],
   "source": [
    "x = np.array([1, 2, 3])\n",
    "y = x\n",
    "z = np.copy(x)\n",
    "# here x and y both refer to the same array, but z is a copy.\n",
    "# if we change x, y will change, but z will not.\n",
    "x[0] = 10\n",
    "print(\"x = \", x)\n",
    "print(\"y = \", y)\n",
    "print(\"z =\", z)"
   ]
  },
  {
   "attachments": {},
   "cell_type": "markdown",
   "metadata": {},
   "source": [
    "- In Python, if we copy a list, it creates a reference to the original list. \n",
    "- If we modify the referenced list, the original list is modified. \n",
    "- Numpy works in a similar way, but if you have to create a copy, it has a copy() function that can copy a list so we have multiple copies to work with\n",
    "- In the above example, y and x refer to the same numpy array but z has its own copy."
   ]
  },
  {
   "attachments": {},
   "cell_type": "markdown",
   "metadata": {},
   "source": [
    "## Typecast Array\n",
    "- Typecasting is done using the astype() function."
   ]
  },
  {
   "cell_type": "code",
   "execution_count": 191,
   "metadata": {},
   "outputs": [
    {
     "name": "stdout",
     "output_type": "stream",
     "text": [
      "int64\n",
      "float32\n",
      "[1. 2. 3.]\n",
      "int16\n",
      "datatype of a is <U21\n",
      "a is upcasted to a String :  ['1' '2' '3' 'hello']\n"
     ]
    }
   ],
   "source": [
    "# code to demo type casting in numpy arrays\n",
    "a = np.array([1, 2, 3])\n",
    "print(a.dtype)\n",
    "b = a.astype(np.float32)\n",
    "print(b.dtype)\n",
    "print(b)\n",
    "\n",
    "#upcasting demo.\n",
    "a = np.array([1, 2, 3], dtype=np.int8)\n",
    "b = np.array([1, 2, 3], dtype=np.int16)\n",
    "c = a + b\n",
    "print(c.dtype)\n",
    "\n",
    "#upcasting to a string\n",
    "a = np.array([1, 2, 3, \"hello\"])\n",
    "print(\"datatype of a is\" ,a.dtype)\n",
    "print(\"a is upcasted to a String : \", a)\n",
    "\n"
   ]
  },
  {
   "attachments": {},
   "cell_type": "markdown",
   "metadata": {},
   "source": [
    "## NaN type in numpy\n",
    "- In ML problems, you will not always have full data. In case of incomplete data, you will need a way to fill empty values into the array. NaN is the value that you can place in an array wherever you have missing data.\n",
    "- NaN stands for Not A Number. It is a placeholder to indicate the absence of value."
   ]
  },
  {
   "cell_type": "code",
   "execution_count": 192,
   "metadata": {},
   "outputs": [
    {
     "name": "stdout",
     "output_type": "stream",
     "text": [
      "float64\n",
      "[ 1.  2.  3. nan]\n"
     ]
    }
   ],
   "source": [
    "#NaN demo in numpy\n",
    "a = np.array([1, 2, 3, np.nan])\n",
    "print(a.dtype)\n",
    "print(a)"
   ]
  },
  {
   "attachments": {},
   "cell_type": "markdown",
   "metadata": {},
   "source": [
    "## Infinite arrays\n",
    "- In NumPy, we have np.inf and -np.inf. np.inf is for positive infinity, and -np.inf is for negative infinity. \n",
    "- I am not sure, where these will be used, but we will see."
   ]
  },
  {
   "cell_type": "code",
   "execution_count": 193,
   "metadata": {},
   "outputs": [
    {
     "name": "stdout",
     "output_type": "stream",
     "text": [
      "float64\n",
      "[ 1.  2.  3. inf]\n",
      "[False False False  True]\n"
     ]
    }
   ],
   "source": [
    "# infinite array demo\n",
    "a = np.array([1, 2, 3, np.inf])\n",
    "print(a.dtype)\n",
    "print(a)\n",
    "print(np.isinf(a))"
   ]
  },
  {
   "attachments": {},
   "cell_type": "markdown",
   "metadata": {},
   "source": [
    "## Creating a array with range of numbers"
   ]
  },
  {
   "cell_type": "code",
   "execution_count": 194,
   "metadata": {},
   "outputs": [
    {
     "name": "stdout",
     "output_type": "stream",
     "text": [
      "[0 1 2 3 4 5 6 7 8 9]\n",
      "[0 2 4 6 8]\n",
      "[0.  0.5 1.  1.5 2.  2.5 3.  3.5 4.  4.5 5.  5.5 6.  6.5 7.  7.5 8.  8.5\n",
      " 9.  9.5]\n",
      "[ 0.   2.5  5.   7.5 10. ]\n"
     ]
    }
   ],
   "source": [
    "# arange demo\n",
    "a = np.arange(10)\n",
    "print(a)\n",
    "b = np.arange(start=0, stop=10, step=2)\n",
    "print(b)\n",
    "\n",
    "# note that the stop value is not included in the array\n",
    "c = np.arange(start=0, stop=10, step=0.5)\n",
    "print(c)\n",
    "\n",
    "# let's say you know the number of elements you want in the array, you can use linspace function to create an array. \n",
    "# the linspace function will create an array with the specified number of elements and the elements will be equally spaced.\n",
    "a = np.linspace(start=0, stop=10, num=5)\n",
    "print(a)\n"
   ]
  },
  {
   "attachments": {},
   "cell_type": "markdown",
   "metadata": {},
   "source": [
    "## Shaping an array\n",
    "- numpy.reshape is a function that takes an array and converts it into rows and columns based on the inputs parameters of required rows and columns. \n",
    "- Of course, number of elements and expected rows and columns have to match. \n",
    "- If you have 16 elements, you can do a 2X8 or a 4X4 but not 8X2."
   ]
  },
  {
   "cell_type": "code",
   "execution_count": 195,
   "metadata": {},
   "outputs": [
    {
     "name": "stdout",
     "output_type": "stream",
     "text": [
      "[0 1 2 3 4 5 6 7 8 9]\n",
      "[[0 1 2 3 4]\n",
      " [5 6 7 8 9]]\n",
      "[[0 1]\n",
      " [2 3]\n",
      " [4 5]\n",
      " [6 7]\n",
      " [8 9]]\n"
     ]
    }
   ],
   "source": [
    "# reshape demo\n",
    "a = np.arange(10)\n",
    "print(a)\n",
    "b = a.reshape(2, 5)\n",
    "print(b)\n",
    "c = a.reshape(5, 2)\n",
    "print(c)"
   ]
  },
  {
   "attachments": {},
   "cell_type": "markdown",
   "metadata": {},
   "source": [
    "- if you don't know the number of rows or columns, you can use -1 in the reshape function."
   ]
  },
  {
   "cell_type": "code",
   "execution_count": 196,
   "metadata": {},
   "outputs": [
    {
     "name": "stdout",
     "output_type": "stream",
     "text": [
      "[0 1 2 3 4 5 6 7 8 9]\n",
      "[[0 1 2 3 4]\n",
      " [5 6 7 8 9]]\n",
      "[[0 1]\n",
      " [2 3]\n",
      " [4 5]\n",
      " [6 7]\n",
      " [8 9]]\n"
     ]
    }
   ],
   "source": [
    "# reshape demo with -1\n",
    "a = np.arange(10)\n",
    "print(a)\n",
    "b = a.reshape(2, -1)\n",
    "print(b)\n",
    "c = a.reshape(-1, 2)\n",
    "print(c)"
   ]
  },
  {
   "attachments": {},
   "cell_type": "markdown",
   "metadata": {},
   "source": [
    "- numpy.flatten takes any array and flattens it into 1 dimension."
   ]
  },
  {
   "cell_type": "code",
   "execution_count": 197,
   "metadata": {},
   "outputs": [
    {
     "name": "stdout",
     "output_type": "stream",
     "text": [
      "[0 1 2 3 4 5 6 7 8 9]\n",
      "[[0 1 2 3 4]\n",
      " [5 6 7 8 9]]\n",
      "[0 1 2 3 4 5 6 7 8 9]\n"
     ]
    }
   ],
   "source": [
    "# flatten demo\n",
    "a = np.arange(10)\n",
    "print(a)\n",
    "b = a.reshape(2, 5)\n",
    "print(b)\n",
    "c = b.flatten()\n",
    "print(c)"
   ]
  },
  {
   "attachments": {},
   "cell_type": "markdown",
   "metadata": {},
   "source": [
    "- numpy.transpose function tranposes an array, basically converting rows to columns and vice-versa."
   ]
  },
  {
   "cell_type": "code",
   "execution_count": 198,
   "metadata": {},
   "outputs": [
    {
     "name": "stdout",
     "output_type": "stream",
     "text": [
      "[0 1 2 3 4 5 6 7 8 9]\n",
      "[[0 1 2 3 4]\n",
      " [5 6 7 8 9]]\n",
      "[[0 5]\n",
      " [1 6]\n",
      " [2 7]\n",
      " [3 8]\n",
      " [4 9]]\n"
     ]
    }
   ],
   "source": [
    "# transpose demo\n",
    "a = np.arange(10)\n",
    "print(a)\n",
    "b = a.reshape(2, 5)\n",
    "print(b)\n",
    "c = b.T\n",
    "print(c)"
   ]
  },
  {
   "attachments": {},
   "cell_type": "markdown",
   "metadata": {},
   "source": [
    "- transpose also takes in axes parameter which is a tuple that switches the dimensions. \n",
    "- The number elements in the tuple should of course match the number of dimensions, otherwise the function would not know where to put the missing dimensions. "
   ]
  },
  {
   "cell_type": "code",
   "execution_count": 199,
   "metadata": {},
   "outputs": [
    {
     "name": "stdout",
     "output_type": "stream",
     "text": [
      "[0 1 2 3 4 5 6 7 8 9]\n",
      "[[0 1 2 3 4]\n",
      " [5 6 7 8 9]]\n",
      "[[0 5]\n",
      " [1 6]\n",
      " [2 7]\n",
      " [3 8]\n",
      " [4 9]]\n"
     ]
    }
   ],
   "source": [
    "# transpose demo with axes argument\n",
    "a = np.arange(10)\n",
    "print(a)\n",
    "b = a.reshape(2, 5)\n",
    "print(b)\n",
    "c = np.transpose(b, axes=(1, 0))\n",
    "print(c)"
   ]
  },
  {
   "cell_type": "code",
   "execution_count": 200,
   "metadata": {},
   "outputs": [
    {
     "name": "stdout",
     "output_type": "stream",
     "text": [
      "[ 0  1  2  3  4  5  6  7  8  9 10 11 12 13 14 15 16 17 18 19 20 21 22 23]\n",
      "\n",
      "after reshape\n",
      " [[[ 0  1  2  3]\n",
      "  [ 4  5  6  7]\n",
      "  [ 8  9 10 11]]\n",
      "\n",
      " [[12 13 14 15]\n",
      "  [16 17 18 19]\n",
      "  [20 21 22 23]]]\n",
      "\n",
      "after transposing \n",
      " [[[ 0  1  2  3]\n",
      "  [12 13 14 15]]\n",
      "\n",
      " [[ 4  5  6  7]\n",
      "  [16 17 18 19]]\n",
      "\n",
      " [[ 8  9 10 11]\n",
      "  [20 21 22 23]]]\n"
     ]
    }
   ],
   "source": [
    "# transpose numpy multidimensional array\n",
    "a = np.arange(24)\n",
    "print(a)\n",
    "# create 2 of 3x4 arrays\n",
    "b = a.reshape(2, 3, 4)\n",
    "print(\"\\nafter reshape\\n\",b)\n",
    "# transpose the 2 arrays\n",
    "# the axes argument is used to specify the order of the axes\n",
    "# here we are specifying that the first axis should be the second axis, the second axis should be the first axis and the third axis should be the third axis\n",
    "c = np.transpose(b, axes=(1, 0, 2))\n",
    "print(\"\\nafter transposing \\n\",c)"
   ]
  },
  {
   "attachments": {},
   "cell_type": "markdown",
   "metadata": {},
   "source": [
    "- numpy has a convenient zeros, ones and ones_like and zeros_like function which create an array with zeros, ones of a defined shape or create the arrays with shapes like a reference array, respectively."
   ]
  },
  {
   "cell_type": "code",
   "execution_count": 201,
   "metadata": {},
   "outputs": [
    {
     "name": "stdout",
     "output_type": "stream",
     "text": [
      "[0 1 2 3 4 5 6 7 8 9]\n",
      "[1 1 1 1 1 1 1 1 1 1]\n"
     ]
    }
   ],
   "source": [
    "# ones_like demo\n",
    "a = np.arange(10)\n",
    "print(a)\n",
    "# here we are creating an array of ones with the same shape as a\n",
    "b = np.ones_like(a)\n",
    "print(b)"
   ]
  },
  {
   "attachments": {},
   "cell_type": "markdown",
   "metadata": {},
   "source": [
    "## Linear algebra with numpy"
   ]
  },
  {
   "cell_type": "code",
   "execution_count": 202,
   "metadata": {},
   "outputs": [
    {
     "name": "stdout",
     "output_type": "stream",
     "text": [
      "[[1 2]\n",
      " [3 4]]\n",
      "[[5 6]\n",
      " [7 8]]\n",
      "Simple addition\n",
      "[[ 6  8]\n",
      " [10 12]]\n",
      "Simple multiplication\n",
      "[[ 5 12]\n",
      " [21 32]]\n",
      "Matrix multiplication\n",
      "[[19 22]\n",
      " [43 50]]\n",
      "Matrix inverse\n",
      "[[-2.   1. ]\n",
      " [ 1.5 -0.5]]\n",
      "Matrix determinant\n",
      "-2.0000000000000004\n",
      "Matrix trace\n",
      "5\n"
     ]
    }
   ],
   "source": [
    "# numpy linear algebra demo\n",
    "# numpy has a linear algebra module that can be used to perform linear algebra operations on numpy arrays.\n",
    "# let's create two arrays\n",
    "a = np.array([[1, 2], [3, 4]])\n",
    "print(a)\n",
    "b = np.array([[5, 6], [7, 8]])\n",
    "print(b)\n",
    "\n",
    "# simple addition\n",
    "c = a + b\n",
    "print(\"Simple addition\")\n",
    "print(c)\n",
    "\n",
    "# multiplication\n",
    "c = a * b\n",
    "print(\"Simple multiplication\")\n",
    "print(c)\n",
    "\n",
    "# matrix multiplication\n",
    "c = a.dot(b)\n",
    "print(\"Matrix multiplication\")\n",
    "print(c)\n",
    "\n",
    "# matrix inverse\n",
    "c = np.linalg.inv(a)\n",
    "print(\"Matrix inverse\")\n",
    "print(c)\n",
    "\n",
    "# matrix determinant\n",
    "c = np.linalg.det(a)\n",
    "print(\"Matrix determinant\")\n",
    "print(c)\n",
    "\n",
    "# matrix trace\n",
    "c = np.trace(a)\n",
    "print(\"Matrix trace\")\n",
    "print(c)"
   ]
  },
  {
   "attachments": {},
   "cell_type": "markdown",
   "metadata": {},
   "source": [
    "## non-linear math with numpy"
   ]
  },
  {
   "cell_type": "code",
   "execution_count": 203,
   "metadata": {},
   "outputs": [
    {
     "name": "stdout",
     "output_type": "stream",
     "text": [
      "[1 2 3 4 5 6 7 8 9]\n",
      "sin function\n",
      "[ 0.84147098  0.90929743  0.14112001 -0.7568025  -0.95892427 -0.2794155\n",
      "  0.6569866   0.98935825  0.41211849]\n",
      "cos function\n",
      "[ 0.54030231 -0.41614684 -0.9899925  -0.65364362  0.28366219  0.96017029\n",
      "  0.75390225 -0.14550003 -0.91113026]\n",
      "tan function\n",
      "[ 1.55740772 -2.18503986 -0.14254654  1.15782128 -3.38051501 -0.29100619\n",
      "  0.87144798 -6.79971146 -0.45231566]\n",
      "log function\n",
      "[0.         0.69314718 1.09861229 1.38629436 1.60943791 1.79175947\n",
      " 1.94591015 2.07944154 2.19722458]\n",
      "exponential function\n",
      "[2.71828183e+00 7.38905610e+00 2.00855369e+01 5.45981500e+01\n",
      " 1.48413159e+02 4.03428793e+02 1.09663316e+03 2.98095799e+03\n",
      " 8.10308393e+03]\n"
     ]
    }
   ],
   "source": [
    "# non linear math functions demo\n",
    "a = np.arange(1,10)\n",
    "print(a)\n",
    "\n",
    "# sin function\n",
    "print(\"sin function\")\n",
    "b = np.sin(a)\n",
    "print(b)\n",
    "\n",
    "# cos function\n",
    "c = np.cos(a)\n",
    "print(\"cos function\")\n",
    "print(c)\n",
    "\n",
    "# tan function\n",
    "d = np.tan(a)\n",
    "print(\"tan function\")\n",
    "print(d)\n",
    "\n",
    "# log function\n",
    "e = np.log(a)\n",
    "print(\"log function\")\n",
    "print(e)\n",
    "\n",
    "# exponential function\n",
    "f = np.exp(a)\n",
    "print(\"exponential function\")\n",
    "print(f)\n"
   ]
  },
  {
   "attachments": {},
   "cell_type": "markdown",
   "metadata": {},
   "source": [
    "## Creating matrices with random numbers\n",
    "- numpy allows us to create arrays with random numbers.\n",
    "- We can control the distribution from which the random numbers are picked."
   ]
  },
  {
   "cell_type": "code",
   "execution_count": 204,
   "metadata": {},
   "outputs": [
    {
     "name": "stdout",
     "output_type": "stream",
     "text": [
      "[0.90234858 0.09928035 0.96980907 0.65314004 0.17090959 0.35815217\n",
      " 0.75068614 0.60783067 0.32504723 0.03842543]\n"
     ]
    }
   ],
   "source": [
    "# numpy random demo\n",
    "# numpy has a random module that can be used to generate random numbers.\n",
    "# let's generate 10 random numbers between 0 and 1\n",
    "a = np.random.rand(10)\n",
    "print(a)\n"
   ]
  },
  {
   "cell_type": "code",
   "execution_count": 205,
   "metadata": {},
   "outputs": [
    {
     "name": "stdout",
     "output_type": "stream",
     "text": [
      "[0.5488135  0.71518937 0.60276338 0.54488318 0.4236548  0.64589411\n",
      " 0.43758721 0.891773   0.96366276 0.38344152]\n",
      "[0.5488135  0.71518937 0.60276338 0.54488318 0.4236548  0.64589411\n",
      " 0.43758721 0.891773   0.96366276 0.38344152]\n"
     ]
    }
   ],
   "source": [
    "# random numbers with seed\n",
    "# if you want to generate the same random numbers every time, you can use the seed function.\n",
    "# the seed function will set the seed for the random number generator.\n",
    "# if you run the code below multiple times, you will get the same random numbers.\n",
    "np.random.seed(0)\n",
    "a = np.random.rand(10)\n",
    "print(a)\n",
    "\n",
    "np.random.seed(0)\n",
    "b = np.random.rand(10)\n",
    "print(b)"
   ]
  },
  {
   "cell_type": "code",
   "execution_count": 206,
   "metadata": {},
   "outputs": [
    {
     "name": "stdout",
     "output_type": "stream",
     "text": [
      "[0.79172504 0.52889492 0.56804456 0.92559664 0.07103606 0.0871293\n",
      " 0.0202184  0.83261985 0.77815675 0.87001215]\n",
      "[ 1.49407907 -0.20515826  0.3130677  -0.85409574 -2.55298982  0.6536186\n",
      "  0.8644362  -0.74216502  2.26975462 -1.45436567]\n",
      "[1 5 1 5 2 5 2 3 3 1]\n"
     ]
    }
   ],
   "source": [
    "# random numbers from a uniform distribution\n",
    "# the uniform function will generate random numbers from a uniform distribution.\n",
    "# the uniform function takes 3 arguments, the first argument is the lower bound, the second argument is the upper bound and the third argument is the number of random numbers to generate.\n",
    "a = np.random.uniform(low=0, high=1, size=10)\n",
    "print(a)\n",
    "\n",
    "# random numbers from normal distribution\n",
    "# the normal function will generate random numbers from a normal distribution.\n",
    "# the normal function takes 3 arguments, the first argument is the mean, the second argument is the standard deviation and the third argument is the number of random numbers to generate.\n",
    "a = np.random.normal(loc=0, scale=1, size=10)\n",
    "print(a)\n",
    "\n",
    "# random numbers from a choice\n",
    "# the choice function will generate random numbers from a choice.\n",
    "# the choice function takes 3 arguments, the first argument is the array from which the random numbers should be generated, the second argument is the number of random numbers to generate and the third argument is whether the random numbers should be generated with replacement or not.\n",
    "a = np.random.choice(a=[1, 2, 3, 4, 5], size=10, replace=True)\n",
    "print(a)"
   ]
  },
  {
   "attachments": {},
   "cell_type": "markdown",
   "metadata": {},
   "source": [
    "## Access elements from an array\n",
    "- Accessing array elements works similar to how we access elements in lists\n"
   ]
  },
  {
   "cell_type": "code",
   "execution_count": 207,
   "metadata": {},
   "outputs": [
    {
     "name": "stdout",
     "output_type": "stream",
     "text": [
      "[1 2 3 4 5 6 7 8 9]\n",
      "1\n"
     ]
    }
   ],
   "source": [
    "# access elements in a numpy array\n",
    "# let's create a numpy array\n",
    "a = np.array([1, 2, 3, 4, 5, 6, 7, 8, 9])\n",
    "print(a)\n",
    "\n",
    "# access the first element\n",
    "print(a[0])"
   ]
  },
  {
   "attachments": {},
   "cell_type": "markdown",
   "metadata": {},
   "source": [
    "- Just like in Python lists, the numpy arrays can be sliced to create new ones."
   ]
  },
  {
   "cell_type": "code",
   "execution_count": 208,
   "metadata": {},
   "outputs": [
    {
     "name": "stdout",
     "output_type": "stream",
     "text": [
      "[1 2 3 4 5 6 7 8 9]\n",
      "[1 2 3]\n",
      "[7 8 9]\n",
      "[1 3]\n"
     ]
    }
   ],
   "source": [
    "# array slicing\n",
    "# let's create a numpy array\n",
    "a = np.array([1, 2, 3, 4, 5, 6, 7, 8, 9])\n",
    "print(a)\n",
    "\n",
    "# access the first 3 elements\n",
    "print(a[0:3])\n",
    "\n",
    "# access the last 3 elements\n",
    "print(a[-3:])\n",
    "\n",
    "# access the first 3 elements with a step of 2\n",
    "print(a[0:3:2])\n"
   ]
  },
  {
   "cell_type": "code",
   "execution_count": 209,
   "metadata": {},
   "outputs": [
    {
     "name": "stdout",
     "output_type": "stream",
     "text": [
      "[[1 2 3]\n",
      " [4 5 6]\n",
      " [7 8 9]]\n",
      "[1 2 3]\n",
      "[1 4 7]\n",
      "[[1 2]\n",
      " [4 5]]\n"
     ]
    }
   ],
   "source": [
    "# slicing multidimensional arrays\n",
    "# let's create a numpy array\n",
    "a = np.array([[1, 2, 3], [4, 5, 6], [7, 8, 9]])\n",
    "print(a)\n",
    "\n",
    "# access the first row\n",
    "print(a[0])\n",
    "\n",
    "# access the first column\n",
    "print(a[:, 0])\n",
    "\n",
    "# access the first 2 rows and first 2 columns\n",
    "print(a[0:2, 0:2])"
   ]
  },
  {
   "attachments": {},
   "cell_type": "markdown",
   "metadata": {},
   "source": [
    "## Filtering elements from numpy array based on where conditions"
   ]
  },
  {
   "cell_type": "code",
   "execution_count": 210,
   "metadata": {},
   "outputs": [
    {
     "name": "stdout",
     "output_type": "stream",
     "text": [
      "[1 2 3 4 5 6 7 8 9]\n",
      "[6 7 8 9]\n",
      "[1 2 3 4 5]\n"
     ]
    }
   ],
   "source": [
    "# filter elements in a numpy array\n",
    "# let's create a numpy array\n",
    "a = np.array([1, 2, 3, 4, 5, 6, 7, 8, 9])\n",
    "print(a)\n",
    "\n",
    "# filter elements that are greater than 5\n",
    "print(a[a > 5])\n",
    "\n",
    "# filter elements that are less than or equal to 5\n",
    "print(a[a <= 5])"
   ]
  },
  {
   "attachments": {},
   "cell_type": "markdown",
   "metadata": {},
   "source": [
    "## Numpy functions for statistics\n",
    "- mean, variance, median are some functions available in numpy to perform statistical analysis"
   ]
  },
  {
   "cell_type": "code",
   "execution_count": 211,
   "metadata": {},
   "outputs": [
    {
     "name": "stdout",
     "output_type": "stream",
     "text": [
      "[1 2 3 4 5 6 7 8 9]\n",
      "mean 5.0\n",
      "median 5.0\n",
      "standard deviation 2.581988897471611\n",
      "variance 6.666666666666667\n"
     ]
    }
   ],
   "source": [
    "# statistics demo\n",
    "# let's create a numpy array\n",
    "a = np.array([1, 2, 3, 4, 5, 6, 7, 8, 9])\n",
    "print(a)\n",
    "\n",
    "# mean\n",
    "print(\"mean\", a.mean())\n",
    "\n",
    "# median\n",
    "print(\"median\", np.median(a))\n",
    "\n",
    "# standard deviation\n",
    "print(\"standard deviation\", a.std())\n",
    "\n",
    "# variance\n",
    "print(\"variance\", a.var())"
   ]
  },
  {
   "attachments": {},
   "cell_type": "markdown",
   "metadata": {},
   "source": [
    "## Aggregation, Concatenation, etc."
   ]
  },
  {
   "cell_type": "code",
   "execution_count": 212,
   "metadata": {},
   "outputs": [
    {
     "name": "stdout",
     "output_type": "stream",
     "text": [
      "[[1 2 3]\n",
      " [4 5 6]\n",
      " [7 8 9]]\n",
      "sum 45\n",
      "sum along the rows [ 6 15 24]\n",
      "sum along the columns [12 15 18]\n",
      "min 1\n",
      "min along the rows [1 4 7]\n",
      "min along the columns [1 2 3]\n",
      "max 9\n",
      "max along the rows [3 6 9]\n",
      "max along the columns [7 8 9]\n",
      "argmin 0\n",
      "argmin along the rows [0 0 0]\n",
      "argmin along the columns [0 0 0]\n",
      "argmax 8\n",
      "argmax along the rows [2 2 2]\n",
      "argmax along the columns [2 2 2]\n",
      "cumsum [ 1  3  6 10 15 21 28 36 45]\n",
      "cumsum along the rows [[ 1  3  6]\n",
      " [ 4  9 15]\n",
      " [ 7 15 24]]\n",
      "cumsum along the columns [[ 1  2  3]\n",
      " [ 5  7  9]\n",
      " [12 15 18]]\n"
     ]
    }
   ],
   "source": [
    "# aggregate functions demo\n",
    "# let's create a numpy array\n",
    "a = np.array([[1, 2, 3], [4, 5, 6], [7, 8, 9]])\n",
    "print(a)\n",
    "\n",
    "# sum\n",
    "print(\"sum\", a.sum())\n",
    "\n",
    "# sum along the rows\n",
    "print(\"sum along the rows\", a.sum(axis=1))\n",
    "\n",
    "# sum along the columns\n",
    "print(\"sum along the columns\", a.sum(axis=0))\n",
    "\n",
    "# min\n",
    "print(\"min\", a.min())\n",
    "\n",
    "# min along the rows\n",
    "print(\"min along the rows\", a.min(axis=1))\n",
    "\n",
    "# min along the columns\n",
    "print(\"min along the columns\", a.min(axis=0))\n",
    "\n",
    "# max\n",
    "print(\"max\", a.max())\n",
    "\n",
    "# max along the rows\n",
    "print(\"max along the rows\", a.max(axis=1))\n",
    "\n",
    "# max along the columns\n",
    "print(\"max along the columns\", a.max(axis=0))\n",
    "\n",
    "# argmin\n",
    "print(\"argmin\", a.argmin())\n",
    "\n",
    "# argmin along the rows\n",
    "print(\"argmin along the rows\", a.argmin(axis=1))\n",
    "\n",
    "# argmin along the columns\n",
    "print(\"argmin along the columns\", a.argmin(axis=0))\n",
    "\n",
    "# argmax\n",
    "print(\"argmax\", a.argmax())\n",
    "\n",
    "# argmax along the rows\n",
    "print(\"argmax along the rows\", a.argmax(axis=1))\n",
    "\n",
    "# argmax along the columns\n",
    "print(\"argmax along the columns\", a.argmax(axis=0))\n",
    "\n",
    "# cumulative sum demo\n",
    "print(\"cumsum\", a.cumsum())\n",
    "\n",
    "# cumsum along the rows\n",
    "print(\"cumsum along the rows\", a.cumsum(axis=1))\n",
    "\n",
    "# cumsum along the columns\n",
    "print(\"cumsum along the columns\", a.cumsum(axis=0))\n"
   ]
  },
  {
   "attachments": {},
   "cell_type": "markdown",
   "metadata": {},
   "source": [
    "## Sort functions in numpy"
   ]
  },
  {
   "cell_type": "code",
   "execution_count": 213,
   "metadata": {},
   "outputs": [
    {
     "name": "stdout",
     "output_type": "stream",
     "text": [
      "[1 4 2 5 3]\n",
      "[1 2 3 4 5]\n",
      "[5 4 3 2 1]\n"
     ]
    }
   ],
   "source": [
    "# sorting demo\n",
    "# let's create a numpy array\n",
    "a = np.array([1, 4, 2, 5, 3])\n",
    "print(a)\n",
    "\n",
    "# sort the array\n",
    "print(np.sort(a))\n",
    "\n",
    "# sort the array in descending order\n",
    "print(np.sort(a)[::-1])"
   ]
  }
 ],
 "metadata": {
  "kernelspec": {
   "display_name": "env",
   "language": "python",
   "name": "python3"
  },
  "language_info": {
   "codemirror_mode": {
    "name": "ipython",
    "version": 3
   },
   "file_extension": ".py",
   "mimetype": "text/x-python",
   "name": "python",
   "nbconvert_exporter": "python",
   "pygments_lexer": "ipython3",
   "version": "3.8.15"
  },
  "orig_nbformat": 4,
  "vscode": {
   "interpreter": {
    "hash": "3be9f4e732ed8d2a8432346c901c2b4ddfa1bf0276b798dd80c83031cff82228"
   }
  }
 },
 "nbformat": 4,
 "nbformat_minor": 2
}
